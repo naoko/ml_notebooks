{
 "cells": [
  {
   "cell_type": "markdown",
   "metadata": {},
   "source": [
    "# 3 Layer Feedforward Neural Net to output binary output\n",
    "\n",
    "Thanks Siraj! (https://www.youtube.com/watch?v=N4gDikiec8E)"
   ]
  },
  {
   "cell_type": "code",
   "execution_count": 1,
   "metadata": {
    "collapsed": true
   },
   "outputs": [],
   "source": [
    "import numpy as np"
   ]
  },
  {
   "cell_type": "markdown",
   "metadata": {},
   "source": [
    "## Correct Data"
   ]
  },
  {
   "cell_type": "code",
   "execution_count": 2,
   "metadata": {
    "collapsed": true
   },
   "outputs": [],
   "source": [
    "X = np.array([\n",
    "    [0, 0, 1],\n",
    "    [0, 1, 1],\n",
    "    [1, 0, 1],\n",
    "    [1, 1, 1],\n",
    "])\n",
    "\n",
    "y = np.array([[0], [1], [1], [0]])"
   ]
  },
  {
   "cell_type": "code",
   "execution_count": 3,
   "metadata": {
    "collapsed": false
   },
   "outputs": [
    {
     "name": "stdout",
     "output_type": "stream",
     "text": [
      "Input\n",
      "[[0 0 1]\n",
      " [0 1 1]\n",
      " [1 0 1]\n",
      " [1 1 1]]\n",
      "\n",
      "Output\n",
      "[[0]\n",
      " [1]\n",
      " [1]\n",
      " [0]]\n"
     ]
    }
   ],
   "source": [
    "print(\"Input\\n{}\\n\\nOutput\\n{}\".format(X, y))"
   ]
  },
  {
   "cell_type": "markdown",
   "metadata": {},
   "source": [
    "## Build Model"
   ]
  },
  {
   "cell_type": "code",
   "execution_count": 4,
   "metadata": {
    "collapsed": false
   },
   "outputs": [],
   "source": [
    "# Set Hyperparameter\n",
    "num_epoches = 60000"
   ]
  },
  {
   "cell_type": "markdown",
   "metadata": {},
   "source": [
    "## Initialize Weights"
   ]
  },
  {
   "cell_type": "code",
   "execution_count": 5,
   "metadata": {
    "collapsed": false
   },
   "outputs": [
    {
     "name": "stdout",
     "output_type": "stream",
     "text": [
      "[[-0.74243394  0.8398652  -0.22120267 -0.27488384]\n",
      " [ 0.84018702 -0.69514539  0.32494017  0.9966595 ]\n",
      " [-0.92919783  0.46325481 -0.11699002  0.30853723]]\n"
     ]
    }
   ],
   "source": [
    "# Initialize weights with Normal Distribution with low variation\n",
    "# values will be -1 < weight values < 1\n",
    "syn0 = 2 * np.random.random((X.shape[1], X.shape[0])) - 1\n",
    "syn1 = 2 * np.random.random((y.shape[0], y.shape[1])) - 1\n",
    "\n",
    "print(syn0)"
   ]
  },
  {
   "cell_type": "markdown",
   "metadata": {},
   "source": [
    "## Step 3. Train Model\n",
    "\n",
    "A Newural net performs a series of operations on an input tensor to make a prediction\n",
    "We can optimize a prediction using gradient descent to backpropage errors and updating weights accordingly."
   ]
  },
  {
   "cell_type": "code",
   "execution_count": 6,
   "metadata": {
    "collapsed": true
   },
   "outputs": [],
   "source": [
    "def deriv(x):\n",
    "    \"\"\"returns derivative of x\"\"\"\n",
    "    return x * (1-x)\n",
    "\n",
    "def sigmoid(x):\n",
    "    \"\"\"squash x and returns value between 0 and 1\"\"\"\n",
    "    return 1 / (1 + np.exp(-x))"
   ]
  },
  {
   "cell_type": "code",
   "execution_count": 7,
   "metadata": {
    "collapsed": false
   },
   "outputs": [
    {
     "name": "stdout",
     "output_type": "stream",
     "text": [
      "Error: 0.5014807775186167\n",
      "Error: 0.009569803179106691\n",
      "Error: 0.006481292277041224\n",
      "Error: 0.0051891615593743405\n",
      "Error: 0.004439612830304282\n",
      "Error: 0.003936819213878166\n"
     ]
    }
   ],
   "source": [
    "for j in range(num_epoches):\n",
    "    # feed forward through layers 0, 1 and 2\n",
    "    l0 = X\n",
    "    l1 = sigmoid(np.dot(l0, syn0))\n",
    "    l2 = sigmoid(np.dot(l1, syn1))\n",
    "    \n",
    "    # CALCULATE ERROR\n",
    "    # how much did we miss the target value?\n",
    "    # minimize error over time by changing weights\n",
    "    l2_error = y - l2\n",
    "    \n",
    "    if j % 10000 == 0:\n",
    "        print(\"Error: {}\".format(np.mean(np.abs(l2_error))))\n",
    "    \n",
    "    # BACKPROPAGATE\n",
    "    # in what direction is the target value?\n",
    "    # l2_delta = error weighted derivative\n",
    "    # delta = change\n",
    "    l2_delta = l2_error * deriv(l2)\n",
    "    \n",
    "    # how much did each l1 value contribute to l2 error?\n",
    "    l1_error = l2_delta.dot(syn1.T)\n",
    "    \n",
    "    l1_delta = l1_error * deriv(l1)\n",
    "    \n",
    "    # update weights (CORRECT COST)\n",
    "    syn1 += l1.T.dot(l2_delta)\n",
    "    syn0 += l0.T.dot(l1_delta)\n",
    "    "
   ]
  },
  {
   "cell_type": "code",
   "execution_count": null,
   "metadata": {
    "collapsed": true
   },
   "outputs": [],
   "source": []
  }
 ],
 "metadata": {
  "kernelspec": {
   "display_name": "Python 3",
   "language": "python",
   "name": "python3"
  },
  "language_info": {
   "codemirror_mode": {
    "name": "ipython",
    "version": 3
   },
   "file_extension": ".py",
   "mimetype": "text/x-python",
   "name": "python",
   "nbconvert_exporter": "python",
   "pygments_lexer": "ipython3",
   "version": "3.5.3"
  }
 },
 "nbformat": 4,
 "nbformat_minor": 2
}
